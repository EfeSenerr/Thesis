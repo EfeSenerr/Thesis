{
 "cells": [
  {
   "cell_type": "code",
   "execution_count": 2,
   "id": "8a530d42",
   "metadata": {},
   "outputs": [],
   "source": [
    "\n",
    "import dask.bag as db\n",
    "import json\n",
    "import csv\n",
    "import requests\n"
   ]
  },
  {
   "cell_type": "code",
   "execution_count": 3,
   "id": "d7d7fc7d",
   "metadata": {},
   "outputs": [],
   "source": [
    "\n",
    "# Read the JSONL file (Please provide the correct path to your JSONL file)\n",
    "# b = db.read_text('../stream_tweetids/streamV2_tweetnet_2023-06.jsons/streamV2_tweetnet_2023-06.jsons').map(json.loads)\n",
    "b = db.read_text('../stream_tweetids/streamV2_tweetnet_2023-06.jsons/streamV2_tweetnet_2023-06.jsons', blocksize='64MB').map(json.loads)\n"
   ]
  },
  {
   "cell_type": "code",
   "execution_count": 4,
   "id": "dec051ce",
   "metadata": {},
   "outputs": [
    {
     "data": {
      "text/plain": [
       "18"
      ]
     },
     "execution_count": 4,
     "metadata": {},
     "output_type": "execute_result"
    }
   ],
   "source": [
    "b.npartitions"
   ]
  },
  {
   "cell_type": "code",
   "execution_count": 3,
   "id": "0a230c73",
   "metadata": {},
   "outputs": [],
   "source": [
    "\n",
    "# Define the transformation function\n",
    "def extract_fields(json_obj):\n",
    "    tweet_id = json_obj.get('tweet_id', '')\n",
    "    tweet_type = json_obj.get('tweet_type', '')\n",
    "    hashtags = json_obj.get('hashtags', [])\n",
    "    mentions = json_obj.get('mentions', [])\n",
    "    return {\n",
    "        'tweet_id': tweet_id,\n",
    "        'tweet_type': tweet_type,\n",
    "        'hashtags': hashtags,\n",
    "        'mentions': mentions\n",
    "    }\n"
   ]
  },
  {
   "cell_type": "code",
   "execution_count": 4,
   "id": "086f70cf",
   "metadata": {},
   "outputs": [],
   "source": [
    "\n",
    "# API call\n",
    "def fetch_additional_info(tweet_id):\n",
    "    url = \"https://cdn.syndication.twimg.com/tweet-result\"\n",
    "    querystring = {\"id\": tweet_id, \"lang\": \"en\", \"token\": \"x\"}\n",
    "    payload = \"\"\n",
    "    headers = {\n",
    "    \"User-Agent\": \"Mozilla/5.0 (Windows NT 10.0; Win64; x64; rv:109.0) Gecko/20100101 Firefox/114.0\",\n",
    "    \"Accept\": \"*/*\",\n",
    "    \"Accept-Language\": \"en-US,en;q=0.5\",\n",
    "    \"Accept-Encoding\": \"gzip, deflate, br\",\n",
    "    \"Origin\": \"https://platform.twitter.com\",\n",
    "    \"Connection\": \"keep-alive\",\n",
    "    \"Referer\": \"https://platform.twitter.com/\",\n",
    "    \"Sec-Fetch-Dest\": \"empty\",\n",
    "    \"Sec-Fetch-Mode\": \"cors\",\n",
    "    \"Sec-Fetch-Site\": \"cross-site\",\n",
    "    \"Pragma\": \"no-cache\",\n",
    "    \"Cache-Control\": \"no-cache\",\n",
    "    \"TE\": \"trailers\"\n",
    "    }\n",
    "    response = requests.request(\"GET\", url, data=payload, headers=headers, params=querystring)\n",
    "    return response.text\n"
   ]
  },
  {
   "cell_type": "code",
   "execution_count": 5,
   "id": "579bc952",
   "metadata": {},
   "outputs": [],
   "source": [
    "\n",
    "# Initialize a CSV writer and write the header\n",
    "with open('output.csv', 'w', newline='') as f:\n",
    "    writer = csv.DictWriter(f, fieldnames=['tweet_id', 'tweet_type', 'hashtags', 'mentions', 'lang', 'favorite_count', 'created_at', 'text', 'parent_tweet_id'])\n",
    "    writer.writeheader()\n"
   ]
  },
  {
   "cell_type": "code",
   "execution_count": 6,
   "id": "0f00ead7",
   "metadata": {},
   "outputs": [
    {
     "name": "stdout",
     "output_type": "stream",
     "text": [
      "Number of partitions: 1\n",
      "n_partition (100) should be less than b.npartitions (1)\n"
     ]
    }
   ],
   "source": [
    "\n",
    "# Debug Comment: Print the number of partitions in the bag before repartitioning\n",
    "print('Number of partitions:', b.npartitions)\n",
    "\n",
    "# Create partitions (for example, 1000 tweets per partition)\n",
    "n_partition = 100\n",
    "\n",
    "# Debug Comment: Ensure that n_partition is less than b.npartitions\n",
    "if n_partition >= b.npartitions:\n",
    "    print(f'n_partition ({n_partition}) should be less than b.npartitions ({b.npartitions})')\n"
   ]
  },
  {
   "cell_type": "code",
   "execution_count": 9,
   "id": "2ef931e0",
   "metadata": {},
   "outputs": [
    {
     "ename": "ZeroDivisionError",
     "evalue": "division by zero",
     "output_type": "error",
     "traceback": [
      "\u001b[1;31m---------------------------------------------------------------------------\u001b[0m",
      "\u001b[1;31mZeroDivisionError\u001b[0m                         Traceback (most recent call last)",
      "\u001b[1;32mc:\\Users\\EFE\\Downloads\\Thesis\\notebooks\\twitter_data_processing_pipeline_executable.ipynb Cell 8\u001b[0m line \u001b[0;36m1\n\u001b[1;32m----> <a href='vscode-notebook-cell:/c%3A/Users/EFE/Downloads/Thesis/notebooks/twitter_data_processing_pipeline_executable.ipynb#W6sZmlsZQ%3D%3D?line=0'>1</a>\u001b[0m bag \u001b[39m=\u001b[39m b\u001b[39m.\u001b[39;49mrepartition(npartitions\u001b[39m=\u001b[39;49mb\u001b[39m.\u001b[39;49mnpartitions \u001b[39m/\u001b[39;49m\u001b[39m/\u001b[39;49m n_partition)\n",
      "File \u001b[1;32mc:\\Users\\EFE\\anaconda3\\envs\\thesis\\Lib\\site-packages\\dask\\bag\\core.py:1677\u001b[0m, in \u001b[0;36mBag.repartition\u001b[1;34m(self, npartitions, partition_size)\u001b[0m\n\u001b[0;32m   1673\u001b[0m     \u001b[39mraise\u001b[39;00m \u001b[39mValueError\u001b[39;00m(\n\u001b[0;32m   1674\u001b[0m         \u001b[39m\"\u001b[39m\u001b[39mPlease provide exactly one ``npartitions`` or ``partition_size`` keyword arguments\u001b[39m\u001b[39m\"\u001b[39m\n\u001b[0;32m   1675\u001b[0m     )\n\u001b[0;32m   1676\u001b[0m \u001b[39mif\u001b[39;00m npartitions \u001b[39mis\u001b[39;00m \u001b[39mnot\u001b[39;00m \u001b[39mNone\u001b[39;00m:\n\u001b[1;32m-> 1677\u001b[0m     \u001b[39mreturn\u001b[39;00m repartition_npartitions(\u001b[39mself\u001b[39;49m, npartitions)\n\u001b[0;32m   1678\u001b[0m \u001b[39melif\u001b[39;00m partition_size \u001b[39mis\u001b[39;00m \u001b[39mnot\u001b[39;00m \u001b[39mNone\u001b[39;00m:\n\u001b[0;32m   1679\u001b[0m     \u001b[39mreturn\u001b[39;00m repartition_size(\u001b[39mself\u001b[39m, partition_size)\n",
      "File \u001b[1;32mc:\\Users\\EFE\\anaconda3\\envs\\thesis\\Lib\\site-packages\\dask\\bag\\core.py:2616\u001b[0m, in \u001b[0;36mrepartition_npartitions\u001b[1;34m(bag, npartitions)\u001b[0m\n\u001b[0;32m   2614\u001b[0m new_name \u001b[39m=\u001b[39m \u001b[39m\"\u001b[39m\u001b[39mrepartition-\u001b[39m\u001b[39m%d\u001b[39;00m\u001b[39m-\u001b[39m\u001b[39m%s\u001b[39;00m\u001b[39m\"\u001b[39m \u001b[39m%\u001b[39m (npartitions, tokenize(bag, npartitions))\n\u001b[0;32m   2615\u001b[0m \u001b[39mif\u001b[39;00m bag\u001b[39m.\u001b[39mnpartitions \u001b[39m>\u001b[39m npartitions:\n\u001b[1;32m-> 2616\u001b[0m     ratio \u001b[39m=\u001b[39m bag\u001b[39m.\u001b[39;49mnpartitions \u001b[39m/\u001b[39;49m npartitions\n\u001b[0;32m   2617\u001b[0m     new_partitions_boundaries \u001b[39m=\u001b[39m [\n\u001b[0;32m   2618\u001b[0m         \u001b[39mint\u001b[39m(old_partition_index \u001b[39m*\u001b[39m ratio)\n\u001b[0;32m   2619\u001b[0m         \u001b[39mfor\u001b[39;00m old_partition_index \u001b[39min\u001b[39;00m \u001b[39mrange\u001b[39m(npartitions \u001b[39m+\u001b[39m \u001b[39m1\u001b[39m)\n\u001b[0;32m   2620\u001b[0m     ]\n\u001b[0;32m   2621\u001b[0m     \u001b[39mreturn\u001b[39;00m _repartition_from_boundaries(bag, new_partitions_boundaries, new_name)\n",
      "\u001b[1;31mZeroDivisionError\u001b[0m: division by zero"
     ]
    }
   ],
   "source": [
    "\n",
    "\n",
    "bag = b.repartition(npartitions=b.npartitions // n_partition)\n"
   ]
  }
 ],
 "metadata": {
  "kernelspec": {
   "display_name": "thesis",
   "language": "python",
   "name": "python3"
  },
  "language_info": {
   "codemirror_mode": {
    "name": "ipython",
    "version": 3
   },
   "file_extension": ".py",
   "mimetype": "text/x-python",
   "name": "python",
   "nbconvert_exporter": "python",
   "pygments_lexer": "ipython3",
   "version": "3.11.5"
  }
 },
 "nbformat": 4,
 "nbformat_minor": 5
}
