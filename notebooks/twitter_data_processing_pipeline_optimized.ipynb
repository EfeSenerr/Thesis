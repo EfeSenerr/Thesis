{
 "cells": [
  {
   "cell_type": "code",
   "execution_count": 1,
   "id": "d04d63e3",
   "metadata": {},
   "outputs": [],
   "source": [
    "\n",
    "import dask.bag as db\n",
    "import json\n",
    "import requests\n",
    "import csv\n"
   ]
  },
  {
   "cell_type": "code",
   "execution_count": 2,
   "id": "204e521c",
   "metadata": {},
   "outputs": [
    {
     "name": "stdout",
     "output_type": "stream",
     "text": [
      "Number of partitions: 18\n"
     ]
    }
   ],
   "source": [
    "\n",
    "# Read the JSONL file with Dask and partition it (Replace with your actual file path)\n",
    "b = db.read_text('../stream_tweetids/streamV2_tweetnet_2023-06.jsons/streamV2_tweetnet_2023-06.jsons', blocksize='64MB').map(json.loads)\n",
    "print(f\"Number of partitions: {b.npartitions}\")\n"
   ]
  },
  {
   "cell_type": "code",
   "execution_count": 3,
   "id": "423a6fab",
   "metadata": {},
   "outputs": [],
   "source": [
    "\n",
    "# Define the transformation function to extract required fields from JSON\n",
    "def extract_fields(json_obj):\n",
    "    tweet_id = json_obj.get('tweet_id', '')\n",
    "    tweet_type = json_obj.get('tweet_type', '')\n",
    "    hashtags = json_obj.get('hashtags', [])\n",
    "    mentions = json_obj.get('mentions', [])\n",
    "    return {\n",
    "        'tweet_id': tweet_id,\n",
    "        'tweet_type': tweet_type,\n",
    "        'hashtags': hashtags,\n",
    "        'mentions': mentions\n",
    "    }\n"
   ]
  },
  {
   "cell_type": "code",
   "execution_count": 4,
   "id": "068b82c8",
   "metadata": {},
   "outputs": [],
   "source": [
    "\n",
    "# Function to make API call\n",
    "def fetch_additional_info(tweet_id):\n",
    "    url = \"https://cdn.syndication.twimg.com/tweet-result\"\n",
    "    querystring = {\"id\": tweet_id, \"lang\": \"en\", \"token\": \"x\"}\n",
    "    payload = \"\"\n",
    "    headers = {\n",
    "    \"User-Agent\": \"Mozilla/5.0 (Windows NT 10.0; Win64; x64; rv:109.0) Gecko/20100101 Firefox/114.0\",\n",
    "    \"Accept\": \"*/*\",\n",
    "    \"Accept-Language\": \"en-US,en;q=0.5\",\n",
    "    \"Accept-Encoding\": \"gzip, deflate, br\",\n",
    "    \"Origin\": \"https://platform.twitter.com\",\n",
    "    \"Connection\": \"keep-alive\",\n",
    "    \"Referer\": \"https://platform.twitter.com/\",\n",
    "    \"Sec-Fetch-Dest\": \"empty\",\n",
    "    \"Sec-Fetch-Mode\": \"cors\",\n",
    "    \"Sec-Fetch-Site\": \"cross-site\",\n",
    "    \"Pragma\": \"no-cache\",\n",
    "    \"Cache-Control\": \"no-cache\",\n",
    "    \"TE\": \"trailers\"\n",
    "    }\n",
    "    response = requests.request(\"GET\", url, data=payload, headers=headers, params=querystring)\n",
    "    return response.text\n"
   ]
  },
  {
   "cell_type": "code",
   "execution_count": null,
   "id": "965ffb4d",
   "metadata": {},
   "outputs": [],
   "source": [
    "\n",
    "def parse_api_response(api_response):\n",
    "    parsed_data = json.loads(api_response)\n",
    "    lang = parsed_data.get('lang', '')\n",
    "    favorite_count = parsed_data.get('favorite_count', 0)\n",
    "    created_at = parsed_data.get('created_at', '')\n",
    "    text = parsed_data.get('text', '')\n",
    "    parent_tweet_id = parsed_data.get('parent', {}).get('id_str', '')\n",
    "    \n",
    "    return {\n",
    "        'lang': lang,\n",
    "        'favorite_count': favorite_count,\n",
    "        'created_at': created_at,\n",
    "        'text': text,\n",
    "        'parent_tweet_id': parent_tweet_id\n",
    "    }"
   ]
  },
  {
   "cell_type": "code",
   "execution_count": 5,
   "id": "2e227430",
   "metadata": {},
   "outputs": [],
   "source": [
    "\n",
    "# Final transformation and writing to a CSV file\n",
    "def write_to_csv(partition, partition_number):\n",
    "    with open(f'output_{partition_number}.csv', 'a', newline='') as f:\n",
    "        writer = csv.DictWriter(f, fieldnames=['tweet_id', 'tweet_type', 'hashtags', 'mentions', 'lang', 'favorite_count', 'created_at', 'text', 'parent_tweet_id'])\n",
    "        for item in partition:\n",
    "            # Perform your final transformations and API calls here\n",
    "            writer.writerow(item)"
   ]
  },
  {
   "cell_type": "code",
   "execution_count": null,
   "id": "93f084f8",
   "metadata": {},
   "outputs": [],
   "source": [
    "\n",
    "# Use Dask's map_partitions method to apply the function to each partition\n",
    "b.map_partitions(write_to_csv).compute()\n",
    "\n",
    "# Only use belove if you know that we have analyzed the first 5 partitions\n",
    "# b.partitions[5:].map_partitions(write_to_csv).compute()\n",
    "\n"
   ]
  }
 ],
 "metadata": {
  "kernelspec": {
   "display_name": "thesis",
   "language": "python",
   "name": "python3"
  },
  "language_info": {
   "codemirror_mode": {
    "name": "ipython",
    "version": 3
   },
   "file_extension": ".py",
   "mimetype": "text/x-python",
   "name": "python",
   "nbconvert_exporter": "python",
   "pygments_lexer": "ipython3",
   "version": "3.11.5"
  }
 },
 "nbformat": 4,
 "nbformat_minor": 5
}
