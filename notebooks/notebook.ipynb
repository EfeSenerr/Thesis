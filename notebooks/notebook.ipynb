{
 "cells": [
  {
   "cell_type": "code",
   "execution_count": 2,
   "metadata": {},
   "outputs": [
    {
     "name": "stdout",
     "output_type": "stream",
     "text": [
      "{\"__typename\":\"Tweet\",\"in_reply_to_screen_name\":\"Sol__Yumruk\",\"in_reply_to_status_id_str\":\"1663984481437401105\",\"in_reply_to_user_id_str\":\"2917028536\",\"lang\":\"tr\",\"favorite_count\":0,\"created_at\":\"2023-05-31T20:59:54.000Z\",\"display_text_range\":[13,51],\"entities\":{\"hashtags\":[],\"urls\":[],\"user_mentions\":[{\"id_str\":\"2917028536\",\"indices\":[0,12],\"name\":\"Sol Yumruk\",\"screen_name\":\"Sol__Yumruk\"}],\"symbols\":[]},\"id_str\":\"1664013858292346881\",\"text\":\"@Sol__Yumruk 2 sene çok.Bu gidişle 6 ayı zor görür.\",\"user\":{\"id_str\":\"3391907170\",\"name\":\"Gül\",\"profile_image_url_https\":\"https://pbs.twimg.com/profile_images/1654189008019247121/QLFPdGEr_normal.jpg\",\"screen_name\":\"gul741502\",\"verified\":false,\"is_blue_verified\":false,\"profile_image_shape\":\"Circle\"},\"edit_control\":{\"edit_tweet_ids\":[\"1664013858292346881\"],\"editable_until_msecs\":\"1685568594000\",\"is_edit_eligible\":false,\"edits_remaining\":\"5\"},\"conversation_count\":0,\"news_action_type\":\"conversation\",\"parent\":{\"lang\":\"tr\",\"reply_count\":4472,\"retweet_count\":745,\"favorite_count\":11195,\"possibly_sensitive\":false,\"created_at\":\"2023-05-31T19:03:10.000Z\",\"display_text_range\":[0,82],\"entities\":{\"hashtags\":[],\"urls\":[],\"user_mentions\":[],\"symbols\":[],\"media\":[{\"display_url\":\"pic.twitter.com/SaekxwN4KM\",\"expanded_url\":\"https://twitter.com/Sol__Yumruk/status/1663984481437401105/photo/1\",\"indices\":[83,106],\"url\":\"https://t.co/SaekxwN4KM\"}]},\"id_str\":\"1663984481437401105\",\"text\":\"Kılıçdaroğlu istifa etmesin, 2 sene sonra Cumhurbaşkanı! \\nBu twitt burada kalsın…. https://t.co/SaekxwN4KM\",\"user\":{\"id_str\":\"2917028536\",\"name\":\"Sol Yumruk\",\"profile_image_url_https\":\"https://pbs.twimg.com/profile_images/1451174005449363459/6g1SrWhY_normal.jpg\",\"screen_name\":\"Sol__Yumruk\",\"verified\":false,\"is_blue_verified\":true,\"profile_image_shape\":\"Circle\"},\"edit_control\":{\"edit_tweet_ids\":[\"1663984481437401105\"],\"editable_until_msecs\":\"1685561590000\",\"is_edit_eligible\":true,\"edits_remaining\":\"5\"},\"mediaDetails\":[{\"display_url\":\"pic.twitter.com/SaekxwN4KM\",\"expanded_url\":\"https://twitter.com/Sol__Yumruk/status/1663984481437401105/photo/1\",\"ext_media_availability\":{\"status\":\"Available\"},\"indices\":[83,106],\"media_url_https\":\"https://pbs.twimg.com/media/FxepELOWwCYoBng.jpg\",\"original_info\":{\"height\":554,\"width\":554,\"focus_rects\":[{\"x\":0,\"y\":80,\"w\":554,\"h\":310},{\"x\":0,\"y\":0,\"w\":554,\"h\":554},{\"x\":20,\"y\":0,\"w\":486,\"h\":554},{\"x\":125,\"y\":0,\"w\":277,\"h\":554},{\"x\":0,\"y\":0,\"w\":554,\"h\":554}]},\"sizes\":{\"large\":{\"h\":554,\"resize\":\"fit\",\"w\":554},\"medium\":{\"h\":554,\"resize\":\"fit\",\"w\":554},\"small\":{\"h\":554,\"resize\":\"fit\",\"w\":554},\"thumb\":{\"h\":150,\"resize\":\"crop\",\"w\":150}},\"type\":\"photo\",\"url\":\"https://t.co/SaekxwN4KM\"}],\"photos\":[{\"backgroundColor\":{\"red\":204,\"green\":214,\"blue\":221},\"cropCandidates\":[{\"x\":0,\"y\":80,\"w\":554,\"h\":310},{\"x\":0,\"y\":0,\"w\":554,\"h\":554},{\"x\":20,\"y\":0,\"w\":486,\"h\":554},{\"x\":125,\"y\":0,\"w\":277,\"h\":554},{\"x\":0,\"y\":0,\"w\":554,\"h\":554}],\"expandedUrl\":\"https://twitter.com/Sol__Yumruk/status/1663984481437401105/photo/1\",\"url\":\"https://pbs.twimg.com/media/FxepELOWwCYoBng.jpg\",\"width\":554,\"height\":554}],\"isEdited\":false,\"isStaleEdit\":false},\"isEdited\":false,\"isStaleEdit\":false}\n"
     ]
    }
   ],
   "source": [
    "import requests\n",
    "\n",
    "url = \"https://cdn.syndication.twimg.com/tweet-result\"\n",
    "\n",
    "querystring = {\"id\":\"1664013858292346881\",\"lang\":\"en\", \"token\":\"x\"}\n",
    "\n",
    "payload = \"\"\n",
    "headers = {\n",
    "    \"User-Agent\": \"Mozilla/5.0 (Windows NT 10.0; Win64; x64; rv:109.0) Gecko/20100101 Firefox/114.0\",\n",
    "    \"Accept\": \"*/*\",\n",
    "    \"Accept-Language\": \"en-US,en;q=0.5\",\n",
    "    \"Accept-Encoding\": \"gzip, deflate, br\",\n",
    "    \"Origin\": \"https://platform.twitter.com\",\n",
    "    \"Connection\": \"keep-alive\",\n",
    "    \"Referer\": \"https://platform.twitter.com/\",\n",
    "    \"Sec-Fetch-Dest\": \"empty\",\n",
    "    \"Sec-Fetch-Mode\": \"cors\",\n",
    "    \"Sec-Fetch-Site\": \"cross-site\",\n",
    "    \"Pragma\": \"no-cache\",\n",
    "    \"Cache-Control\": \"no-cache\",\n",
    "    \"TE\": \"trailers\"\n",
    "}\n",
    "\n",
    "response = requests.request(\"GET\", url, data=payload, headers=headers, params=querystring)\n",
    "\n",
    "print(response.text)"
   ]
  },
  {
   "cell_type": "code",
   "execution_count": 2,
   "metadata": {},
   "outputs": [
    {
     "ename": "NameError",
     "evalue": "name 'string' is not defined",
     "output_type": "error",
     "traceback": [
      "\u001b[1;31m---------------------------------------------------------------------------\u001b[0m",
      "\u001b[1;31mNameError\u001b[0m                                 Traceback (most recent call last)",
      "\u001b[1;32mc:\\Users\\EFE\\Downloads\\Thesis\\notebook.ipynb Cell 2\u001b[0m line \u001b[0;36m1\n\u001b[1;32m----> <a href='vscode-notebook-cell:/c%3A/Users/EFE/Downloads/Thesis/notebook.ipynb#W1sZmlsZQ%3D%3D?line=0'>1</a>\u001b[0m CHARACTERS \u001b[39m=\u001b[39m string\u001b[39m.\u001b[39mdigits \u001b[39m+\u001b[39m string\u001b[39m.\u001b[39mascii_lowercase\n\u001b[0;32m      <a href='vscode-notebook-cell:/c%3A/Users/EFE/Downloads/Thesis/notebook.ipynb#W1sZmlsZQ%3D%3D?line=3'>4</a>\u001b[0m \u001b[39mdef\u001b[39;00m \u001b[39mv8_float_to_radix\u001b[39m(number: \u001b[39mfloat\u001b[39m, radix: \u001b[39mint\u001b[39m, significant_figures: \u001b[39mint\u001b[39m \u001b[39m=\u001b[39m \u001b[39m11\u001b[39m) \u001b[39m-\u001b[39m\u001b[39m>\u001b[39m \u001b[39mstr\u001b[39m:\n\u001b[0;32m      <a href='vscode-notebook-cell:/c%3A/Users/EFE/Downloads/Thesis/notebook.ipynb#W1sZmlsZQ%3D%3D?line=4'>5</a>\u001b[0m \u001b[39m    \u001b[39m\u001b[39m\"\"\"https://github.com/v8/v8/blob/master/src/numbers/conversions.cc#L1309-L1330\"\"\"\u001b[39;00m\n",
      "\u001b[1;31mNameError\u001b[0m: name 'string' is not defined"
     ]
    }
   ],
   "source": [
    "CHARACTERS = string.digits + string.ascii_lowercase\n",
    "\n",
    "\n",
    "def v8_float_to_radix(number: float, radix: int, significant_figures: int = 11) -> str:\n",
    "    \"\"\"https://github.com/v8/v8/blob/master/src/numbers/conversions.cc#L1309-L1330\"\"\"\n",
    "\n",
    "    integral = math.floor(number)\n",
    "    fraction = number - integral\n",
    "\n",
    "    integral_builder = io.StringIO()\n",
    "    fractional_builder = io.StringIO()\n",
    "\n",
    "    # handle negative sign\n",
    "    if number < 0:\n",
    "        integral_builder.write('-')\n",
    "        number = -number\n",
    "\n",
    "    # decimal part\n",
    "    num_of_digits_of_integral_after_radix = 1 + math.floor(math.log(integral) / math.log(radix)) if integral else 0\n",
    "    sig_figs = 0\n",
    "    while fraction > 0:\n",
    "        fraction *= radix\n",
    "\n",
    "        digit = int(fraction)\n",
    "        fractional_builder.write(CHARACTERS[digit])\n",
    "        fraction -= digit\n",
    "\n",
    "        if digit != 0 or sig_figs:\n",
    "            sig_figs += 1\n",
    "\n",
    "        if sig_figs >= significant_figures - num_of_digits_of_integral_after_radix:\n",
    "            if fraction > 0.5 or (fraction == 0.5 and (digit & 1)):\n",
    "                while True:\n",
    "                    fractional_builder.seek(fractional_builder.tell() - 1)  # move pointer back 1\n",
    "                    if fractional_builder.tell() == 0:\n",
    "                        integral += 1\n",
    "                        break\n",
    "\n",
    "                    if digit + 1 < radix:\n",
    "                        fractional_builder.write(CHARACTERS[digit + 1])\n",
    "                        break\n",
    "            break\n",
    "\n",
    "    # integer part\n",
    "    if integral == 0:\n",
    "        integral_builder.write('0')\n",
    "    else:\n",
    "        while integral > 0:\n",
    "            integral, remainder = divmod(integral, radix)\n",
    "            integral_builder.write(CHARACTERS[remainder])\n",
    "\n",
    "    # reverse order of\n",
    "    result = integral_builder.getvalue()[::-1] + '.' + fractional_builder.getvalue()\n",
    "    integral_builder.close(); fractional_builder.close()\n",
    "    return result\n",
    "\n",
    "\n",
    "def get_token(tweet_id: str) -> str:\n",
    "    \"\"\"A function in Twitter js code that generates token for each tweet.\"\"\"\n",
    "    \"\"\"\n",
    "    From the js code, it\n",
    "    1. int(tweet_id) / 10**15 * PI\n",
    "    2. base36 encodes it\n",
    "    3. remove \"0\" and \".\" \n",
    "    \"\"\"\n",
    "    return re.sub(r\"(0+|\\.)\", \"\", v8_float_to_radix(int(tweet_id) / 1e15 * math.pi, 36))"
   ]
  },
  {
   "cell_type": "code",
   "execution_count": null,
   "metadata": {},
   "outputs": [],
   "source": []
  }
 ],
 "metadata": {
  "kernelspec": {
   "display_name": "thesis",
   "language": "python",
   "name": "python3"
  },
  "language_info": {
   "codemirror_mode": {
    "name": "ipython",
    "version": 3
   },
   "file_extension": ".py",
   "mimetype": "text/x-python",
   "name": "python",
   "nbconvert_exporter": "python",
   "pygments_lexer": "ipython3",
   "version": "3.11.5"
  }
 },
 "nbformat": 4,
 "nbformat_minor": 2
}
