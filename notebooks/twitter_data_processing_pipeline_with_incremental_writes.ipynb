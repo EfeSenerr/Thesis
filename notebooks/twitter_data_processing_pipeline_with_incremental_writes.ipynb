{
 "cells": [
  {
   "cell_type": "markdown",
   "id": "1b954b97",
   "metadata": {},
   "source": [
    "# Twitter Data Processing Pipeline with Dask and Incremental Writes"
   ]
  },
  {
   "cell_type": "markdown",
   "id": "e4621abb",
   "metadata": {},
   "source": [
    "\n",
    "## Introduction\n",
    "\n",
    "This notebook provides a complete pipeline for processing tweet data, optimized for large datasets using Dask. \n",
    "It also includes incremental writes to a CSV file to save progress.\n"
   ]
  },
  {
   "cell_type": "code",
   "execution_count": 1,
   "id": "6497653e",
   "metadata": {},
   "outputs": [],
   "source": [
    "\n",
    "import dask.bag as db\n",
    "import json\n",
    "import csv\n"
   ]
  },
  {
   "cell_type": "code",
   "execution_count": 13,
   "id": "bc794cce",
   "metadata": {},
   "outputs": [],
   "source": [
    "\n",
    "# Read the JSONL file\n",
    "b = db.read_text('../stream_tweetids/streamV2_tweetnet_2023-06.jsons/streamV2_tweetnet_2023-06.jsons').map(json.loads)\n"
   ]
  },
  {
   "cell_type": "code",
   "execution_count": 3,
   "id": "926c6c91",
   "metadata": {},
   "outputs": [],
   "source": [
    "\n",
    "# Define the transformation function\n",
    "def extract_fields(json_obj):\n",
    "    tweet_id = json_obj.get('tweet_id', '')\n",
    "    tweet_type = json_obj.get('tweet_type', '')\n",
    "    hashtags = json_obj.get('hashtags', [])\n",
    "    mentions = json_obj.get('mentions', [])\n",
    "    return {\n",
    "        'tweet_id': tweet_id,\n",
    "        'tweet_type': tweet_type,\n",
    "        'hashtags': hashtags,\n",
    "        'mentions': mentions\n",
    "    }\n"
   ]
  },
  {
   "cell_type": "code",
   "execution_count": 5,
   "id": "c882ad34",
   "metadata": {},
   "outputs": [],
   "source": [
    "\n",
    "# API call\n",
    "import requests\n",
    "\n",
    "def fetch_additional_info(tweet_id):\n",
    "    url = \"https://cdn.syndication.twimg.com/tweet-result\"\n",
    "    querystring = {\"id\": tweet_id, \"lang\": \"en\", \"token\": \"x\"}\n",
    "    payload = \"\"\n",
    "    headers = {\n",
    "    \"User-Agent\": \"Mozilla/5.0 (Windows NT 10.0; Win64; x64; rv:109.0) Gecko/20100101 Firefox/114.0\",\n",
    "    \"Accept\": \"*/*\",\n",
    "    \"Accept-Language\": \"en-US,en;q=0.5\",\n",
    "    \"Accept-Encoding\": \"gzip, deflate, br\",\n",
    "    \"Origin\": \"https://platform.twitter.com\",\n",
    "    \"Connection\": \"keep-alive\",\n",
    "    \"Referer\": \"https://platform.twitter.com/\",\n",
    "    \"Sec-Fetch-Dest\": \"empty\",\n",
    "    \"Sec-Fetch-Mode\": \"cors\",\n",
    "    \"Sec-Fetch-Site\": \"cross-site\",\n",
    "    \"Pragma\": \"no-cache\",\n",
    "    \"Cache-Control\": \"no-cache\",\n",
    "    \"TE\": \"trailers\"\n",
    "    }\n",
    "    response = requests.request(\"GET\", url, data=payload, headers=headers, params=querystring)\n",
    "    return response.text\n"
   ]
  },
  {
   "cell_type": "code",
   "execution_count": 6,
   "id": "143db3ad",
   "metadata": {},
   "outputs": [],
   "source": [
    "\n",
    "def parse_api_response(api_response):\n",
    "    parsed_data = json.loads(api_response)\n",
    "    lang = parsed_data.get('lang', '')\n",
    "    favorite_count = parsed_data.get('favorite_count', 0)\n",
    "    created_at = parsed_data.get('created_at', '')\n",
    "    text = parsed_data.get('text', '')\n",
    "    parent_tweet_id = parsed_data.get('parent', {}).get('id_str', '')\n",
    "    \n",
    "    return {\n",
    "        'lang': lang,\n",
    "        'favorite_count': favorite_count,\n",
    "        'created_at': created_at,\n",
    "        'text': text,\n",
    "        'parent_tweet_id': parent_tweet_id\n",
    "    }\n"
   ]
  },
  {
   "cell_type": "code",
   "execution_count": 7,
   "id": "ad8f4680",
   "metadata": {},
   "outputs": [],
   "source": [
    "\n",
    "# Initialize a CSV writer and write the header\n",
    "with open('output.csv', 'w', newline='') as f:\n",
    "    writer = csv.DictWriter(f, fieldnames=['tweet_id', 'tweet_type', 'hashtags', 'mentions', 'lang', 'favorite_count', 'created_at', 'text', 'parent_tweet_id'])\n",
    "    writer.writeheader()\n",
    "\n",
    "# Function to write a single row to the CSV file\n",
    "def write_row_to_csv(row):\n",
    "    with open('output.csv', 'a', newline='') as f:\n",
    "        writer = csv.DictWriter(f, fieldnames=['tweet_id', 'tweet_type', 'hashtags', 'mentions', 'lang', 'favorite_count', 'created_at', 'text', 'parent_tweet_id'])\n",
    "        writer.writerow(row)\n",
    "\n",
    "# Function to process a single JSON object (this includes the API call)\n",
    "def process_json_object(json_obj):\n",
    "    # Extract initial fields\n",
    "    row = extract_fields(json_obj)\n",
    "    \n",
    "    # Fetch additional info from API (You'll have to add your API logic)\n",
    "    api_response = fetch_additional_info(row['tweet_id'])\n",
    "    \n",
    "    # Parse the API response\n",
    "    additional_info = parse_api_response(api_response)\n",
    "    \n",
    "    # Merge initial data and additional info\n",
    "    row.update(additional_info)\n",
    "    \n",
    "    # Write the row to CSV\n",
    "    write_row_to_csv(row)\n"
   ]
  },
  {
   "cell_type": "code",
   "execution_count": 14,
   "id": "e25a8680",
   "metadata": {},
   "outputs": [
    {
     "ename": "ZeroDivisionError",
     "evalue": "division by zero",
     "output_type": "error",
     "traceback": [
      "\u001b[1;31m---------------------------------------------------------------------------\u001b[0m",
      "\u001b[1;31mZeroDivisionError\u001b[0m                         Traceback (most recent call last)",
      "\u001b[1;32mc:\\Users\\EFE\\Downloads\\Thesis\\notebooks\\twitter_data_processing_pipeline_with_incremental_writes.ipynb Cell 9\u001b[0m line \u001b[0;36m3\n\u001b[0;32m      <a href='vscode-notebook-cell:/c%3A/Users/EFE/Downloads/Thesis/notebooks/twitter_data_processing_pipeline_with_incremental_writes.ipynb#X11sZmlsZQ%3D%3D?line=0'>1</a>\u001b[0m \u001b[39m# Create partitions (for example, 1000 tweets per partition)\u001b[39;00m\n\u001b[0;32m      <a href='vscode-notebook-cell:/c%3A/Users/EFE/Downloads/Thesis/notebooks/twitter_data_processing_pipeline_with_incremental_writes.ipynb#X11sZmlsZQ%3D%3D?line=1'>2</a>\u001b[0m n_partition \u001b[39m=\u001b[39m \u001b[39m100\u001b[39m\n\u001b[1;32m----> <a href='vscode-notebook-cell:/c%3A/Users/EFE/Downloads/Thesis/notebooks/twitter_data_processing_pipeline_with_incremental_writes.ipynb#X11sZmlsZQ%3D%3D?line=2'>3</a>\u001b[0m bag \u001b[39m=\u001b[39m b\u001b[39m.\u001b[39;49mrepartition(npartitions\u001b[39m=\u001b[39;49mb\u001b[39m.\u001b[39;49mnpartitions \u001b[39m/\u001b[39;49m\u001b[39m/\u001b[39;49m n_partition)\n\u001b[0;32m      <a href='vscode-notebook-cell:/c%3A/Users/EFE/Downloads/Thesis/notebooks/twitter_data_processing_pipeline_with_incremental_writes.ipynb#X11sZmlsZQ%3D%3D?line=4'>5</a>\u001b[0m \u001b[39mdef\u001b[39;00m \u001b[39mprocess_partition\u001b[39m(partition):\n\u001b[0;32m      <a href='vscode-notebook-cell:/c%3A/Users/EFE/Downloads/Thesis/notebooks/twitter_data_processing_pipeline_with_incremental_writes.ipynb#X11sZmlsZQ%3D%3D?line=5'>6</a>\u001b[0m     results \u001b[39m=\u001b[39m []\n",
      "File \u001b[1;32mc:\\Users\\EFE\\anaconda3\\envs\\thesis\\Lib\\site-packages\\dask\\bag\\core.py:1677\u001b[0m, in \u001b[0;36mBag.repartition\u001b[1;34m(self, npartitions, partition_size)\u001b[0m\n\u001b[0;32m   1673\u001b[0m     \u001b[39mraise\u001b[39;00m \u001b[39mValueError\u001b[39;00m(\n\u001b[0;32m   1674\u001b[0m         \u001b[39m\"\u001b[39m\u001b[39mPlease provide exactly one ``npartitions`` or ``partition_size`` keyword arguments\u001b[39m\u001b[39m\"\u001b[39m\n\u001b[0;32m   1675\u001b[0m     )\n\u001b[0;32m   1676\u001b[0m \u001b[39mif\u001b[39;00m npartitions \u001b[39mis\u001b[39;00m \u001b[39mnot\u001b[39;00m \u001b[39mNone\u001b[39;00m:\n\u001b[1;32m-> 1677\u001b[0m     \u001b[39mreturn\u001b[39;00m repartition_npartitions(\u001b[39mself\u001b[39;49m, npartitions)\n\u001b[0;32m   1678\u001b[0m \u001b[39melif\u001b[39;00m partition_size \u001b[39mis\u001b[39;00m \u001b[39mnot\u001b[39;00m \u001b[39mNone\u001b[39;00m:\n\u001b[0;32m   1679\u001b[0m     \u001b[39mreturn\u001b[39;00m repartition_size(\u001b[39mself\u001b[39m, partition_size)\n",
      "File \u001b[1;32mc:\\Users\\EFE\\anaconda3\\envs\\thesis\\Lib\\site-packages\\dask\\bag\\core.py:2616\u001b[0m, in \u001b[0;36mrepartition_npartitions\u001b[1;34m(bag, npartitions)\u001b[0m\n\u001b[0;32m   2614\u001b[0m new_name \u001b[39m=\u001b[39m \u001b[39m\"\u001b[39m\u001b[39mrepartition-\u001b[39m\u001b[39m%d\u001b[39;00m\u001b[39m-\u001b[39m\u001b[39m%s\u001b[39;00m\u001b[39m\"\u001b[39m \u001b[39m%\u001b[39m (npartitions, tokenize(bag, npartitions))\n\u001b[0;32m   2615\u001b[0m \u001b[39mif\u001b[39;00m bag\u001b[39m.\u001b[39mnpartitions \u001b[39m>\u001b[39m npartitions:\n\u001b[1;32m-> 2616\u001b[0m     ratio \u001b[39m=\u001b[39m bag\u001b[39m.\u001b[39;49mnpartitions \u001b[39m/\u001b[39;49m npartitions\n\u001b[0;32m   2617\u001b[0m     new_partitions_boundaries \u001b[39m=\u001b[39m [\n\u001b[0;32m   2618\u001b[0m         \u001b[39mint\u001b[39m(old_partition_index \u001b[39m*\u001b[39m ratio)\n\u001b[0;32m   2619\u001b[0m         \u001b[39mfor\u001b[39;00m old_partition_index \u001b[39min\u001b[39;00m \u001b[39mrange\u001b[39m(npartitions \u001b[39m+\u001b[39m \u001b[39m1\u001b[39m)\n\u001b[0;32m   2620\u001b[0m     ]\n\u001b[0;32m   2621\u001b[0m     \u001b[39mreturn\u001b[39;00m _repartition_from_boundaries(bag, new_partitions_boundaries, new_name)\n",
      "\u001b[1;31mZeroDivisionError\u001b[0m: division by zero"
     ]
    }
   ],
   "source": [
    "# Create partitions (for example, 1000 tweets per partition)\n",
    "n_partition = 100\n",
    "bag = b.repartition(npartitions=b.npartitions // n_partition)\n",
    "\n",
    "def process_partition(partition):\n",
    "    results = []\n",
    "    for json_obj in partition:\n",
    "        row = extract_fields(json_obj)\n",
    "        api_response = fetch_additional_info(row['tweet_id'])\n",
    "        additional_info = parse_api_response(api_response)\n",
    "        row.update(additional_info)\n",
    "        results.append(row)\n",
    "    return results\n",
    "\n",
    "# Apply the function to each partition\n",
    "processed_partitions = bag.map_partitions(process_partition).compute"
   ]
  }
 ],
 "metadata": {
  "kernelspec": {
   "display_name": "thesis",
   "language": "python",
   "name": "python3"
  },
  "language_info": {
   "codemirror_mode": {
    "name": "ipython",
    "version": 3
   },
   "file_extension": ".py",
   "mimetype": "text/x-python",
   "name": "python",
   "nbconvert_exporter": "python",
   "pygments_lexer": "ipython3",
   "version": "3.11.5"
  }
 },
 "nbformat": 4,
 "nbformat_minor": 5
}
