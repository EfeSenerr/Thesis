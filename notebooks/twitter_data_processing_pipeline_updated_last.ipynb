{
 "cells": [
  {
   "cell_type": "code",
   "execution_count": 1,
   "id": "4f9a0991",
   "metadata": {},
   "outputs": [],
   "source": [
    "\n",
    "import dask.bag as db\n",
    "import json\n",
    "import requests\n",
    "import csv\n"
   ]
  },
  {
   "cell_type": "code",
   "execution_count": 2,
   "id": "20fa7511",
   "metadata": {},
   "outputs": [
    {
     "name": "stdout",
     "output_type": "stream",
     "text": [
      "Number of partitions: 18\n"
     ]
    }
   ],
   "source": [
    "\n",
    "# Read the JSONL file with Dask and partition it (Replace with your actual file path)\n",
    "b = db.read_text('../stream_tweetids/streamV2_tweetnet_2023-06.jsons/streamV2_tweetnet_2023-06.jsons', blocksize='64MB').map(json.loads)\n",
    "print(f\"Number of partitions: {b.npartitions}\")\n"
   ]
  },
  {
   "cell_type": "code",
   "execution_count": 3,
   "id": "f0ae8d9d",
   "metadata": {},
   "outputs": [],
   "source": [
    "\n",
    "# Define the transformation function to extract required fields from JSON\n",
    "def extract_fields(json_obj):\n",
    "    tweet_id = json_obj.get('tweet_id', '')\n",
    "    tweet_type = json_obj.get('tweet_type', '')\n",
    "    hashtags = json_obj.get('hashtags', [])\n",
    "    mentions = json_obj.get('mentions', [])\n",
    "    return {\n",
    "        'tweet_id': tweet_id,\n",
    "        'tweet_type': tweet_type,\n",
    "        'hashtags': hashtags,\n",
    "        'mentions': mentions\n",
    "    }\n"
   ]
  },
  {
   "cell_type": "code",
   "execution_count": 4,
   "id": "6e892ba7",
   "metadata": {},
   "outputs": [],
   "source": [
    "\n",
    "# Function to make API call\n",
    "def fetch_additional_info(tweet_id):\n",
    "    url = \"https://cdn.syndication.twimg.com/tweet-result\"\n",
    "    querystring = {\"id\": tweet_id, \"lang\": \"en\", \"token\": \"x\"}\n",
    "    payload = \"\"\n",
    "    headers = {\n",
    "    \"User-Agent\": \"Mozilla/5.0 (Windows NT 10.0; Win64; x64; rv:109.0) Gecko/20100101 Firefox/114.0\",\n",
    "    \"Accept\": \"*/*\",\n",
    "    \"Accept-Language\": \"en-US,en;q=0.5\",\n",
    "    \"Accept-Encoding\": \"gzip, deflate, br\",\n",
    "    \"Origin\": \"https://platform.twitter.com\",\n",
    "    \"Connection\": \"keep-alive\",\n",
    "    \"Referer\": \"https://platform.twitter.com/\",\n",
    "    \"Sec-Fetch-Dest\": \"empty\",\n",
    "    \"Sec-Fetch-Mode\": \"cors\",\n",
    "    \"Sec-Fetch-Site\": \"cross-site\",\n",
    "    \"Pragma\": \"no-cache\",\n",
    "    \"Cache-Control\": \"no-cache\",\n",
    "    \"TE\": \"trailers\"\n",
    "    }\n",
    "    response = requests.request(\"GET\", url, data=payload, headers=headers, params=querystring)\n",
    "    return response.text\n"
   ]
  },
  {
   "cell_type": "code",
   "execution_count": null,
   "id": "aa28fc19",
   "metadata": {},
   "outputs": [],
   "source": [
    "\n",
    "# Function to parse API response\n",
    "def parse_api_response(api_response):\n",
    "    parsed_data = json.loads(api_response)\n",
    "    lang = parsed_data.get('lang', '')\n",
    "    favorite_count = parsed_data.get('favorite_count', 0)\n",
    "    created_at = parsed_data.get('created_at', '')\n",
    "    text = parsed_data.get('text', '')\n",
    "    parent_tweet_id = parsed_data.get('parent', {}).get('id_str', '')\n",
    "    \n",
    "    return {\n",
    "        'lang': lang,\n",
    "        'favorite_count': favorite_count,\n",
    "        'created_at': created_at,\n",
    "        'text': text,\n",
    "        'parent_tweet_id': parent_tweet_id\n",
    "    }\n"
   ]
  },
  {
   "cell_type": "code",
   "execution_count": 11,
   "id": "4dc1d598",
   "metadata": {},
   "outputs": [],
   "source": [
    "\n",
    "# Function to process a single JSON object (this includes the API call)\n",
    "def process_json_object(json_obj):\n",
    "    # Extract initial fields\n",
    "    row = extract_fields(json_obj)\n",
    "    \n",
    "    # Fetch additional info from API\n",
    "    api_response = fetch_additional_info(row['tweet_id'])\n",
    "    \n",
    "    # Parse the API response\n",
    "    additional_info = parse_api_response(api_response)\n",
    "    \n",
    "    # Merge initial data and additional info\n",
    "    row.update(additional_info)\n",
    "    \n",
    "    return row\n",
    "\n",
    "# Function to write a partition of data to a CSV file\n",
    "# def write_to_csv(partition, partition_number):\n",
    "#     with open(f'output_{partition_number}.csv', 'a', newline='') as f:\n",
    "#         writer = csv.DictWriter(f, fieldnames=['tweet_id', 'tweet_type', 'hashtags', 'mentions', 'lang', 'favorite_count', 'created_at', 'text', 'parent_tweet_id'])\n",
    "#         for item in partition:\n",
    "#             try:\n",
    "#                 processed_item = process_json_object(item)\n",
    "#                 writer.writerow(processed_item)\n",
    "#             except Exception as e:\n",
    "#                 print(f\"Error processing record: {e}\")\n",
    "                \n",
    "def write_to_csv(partition):\n",
    "    with open(f'output.csv', 'a', newline='') as f:\n",
    "        writer = csv.DictWriter(f, fieldnames=['tweet_id', 'tweet_type', 'hashtags', 'mentions', 'lang', 'favorite_count', 'created_at', 'text', 'parent_tweet_id'])\n",
    "        for item in partition:\n",
    "            try:\n",
    "                processed_item = process_json_object(item)\n",
    "                writer.writerow(processed_item)\n",
    "            except Exception as e:\n",
    "                print(f\"Error processing record: {e}\")\n",
    "                "
   ]
  },
  {
   "cell_type": "code",
   "execution_count": 10,
   "id": "91b509e9",
   "metadata": {},
   "outputs": [
    {
     "ename": "AttributeError",
     "evalue": "'Bag' object has no attribute 'get_partition'",
     "output_type": "error",
     "traceback": [
      "\u001b[1;31m---------------------------------------------------------------------------\u001b[0m",
      "\u001b[1;31mAttributeError\u001b[0m                            Traceback (most recent call last)",
      "\u001b[1;32mc:\\Users\\EFE\\Downloads\\Thesis\\notebooks\\twitter_data_processing_pipeline_updated_last.ipynb Cell 7\u001b[0m line \u001b[0;36m1\n\u001b[1;32m----> <a href='vscode-notebook-cell:/c%3A/Users/EFE/Downloads/Thesis/notebooks/twitter_data_processing_pipeline_updated_last.ipynb#X10sZmlsZQ%3D%3D?line=0'>1</a>\u001b[0m b\u001b[39m.\u001b[39;49mget_partition(\u001b[39m1\u001b[39m)\n",
      "\u001b[1;31mAttributeError\u001b[0m: 'Bag' object has no attribute 'get_partition'"
     ]
    }
   ],
   "source": [
    "b.get_partition(1)"
   ]
  },
  {
   "cell_type": "code",
   "execution_count": 12,
   "id": "60e02c5f",
   "metadata": {},
   "outputs": [],
   "source": [
    "# Use Dask's map_partitions method to apply the function to each partition\n",
    "# b.map_partitions(write_to_csv, partition_number=db.PartitionIndex()).compute()\n",
    "b.map_partitions(write_to_csv).compute()\n",
    "\n",
    "#TODO: from start, divide the file into 10 partitions, and then run the above code\n"
   ]
  }
 ],
 "metadata": {
  "kernelspec": {
   "display_name": "thesis",
   "language": "python",
   "name": "python3"
  },
  "language_info": {
   "codemirror_mode": {
    "name": "ipython",
    "version": 3
   },
   "file_extension": ".py",
   "mimetype": "text/x-python",
   "name": "python",
   "nbconvert_exporter": "python",
   "pygments_lexer": "ipython3",
   "version": "3.11.5"
  }
 },
 "nbformat": 4,
 "nbformat_minor": 5
}
