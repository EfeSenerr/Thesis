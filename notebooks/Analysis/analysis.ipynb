{
 "cells": [
  {
   "cell_type": "code",
   "execution_count": 2,
   "metadata": {},
   "outputs": [],
   "source": [
    "# Imports\n",
    "import os\n",
    "import re\n",
    "import warnings\n",
    "import pandas as pd\n",
    "import json\n",
    "import logging\n",
    "import numpy as np\n"
   ]
  },
  {
   "cell_type": "code",
   "execution_count": 3,
   "metadata": {},
   "outputs": [],
   "source": [
    "# Loggings\n",
    "warnings.filterwarnings(action='ignore', category=FutureWarning)\n",
    "    \n",
    "# Configure logging to write to a file and the console\n",
    "logging.basicConfig(\n",
    "    level=logging.INFO,\n",
    "    format='%(asctime)s - %(name)s - %(levelname)s - %(message)s',\n",
    "    handlers=[\n",
    "        logging.FileHandler(filename='analysis.log'),\n",
    "        logging.StreamHandler()\n",
    "    ]\n",
    ")"
   ]
  },
  {
   "cell_type": "code",
   "execution_count": 4,
   "metadata": {},
   "outputs": [],
   "source": [
    "# Predifined functions\n",
    "def extract_number(filename):\n",
    "    # Regular expression to match a sequence of digits\n",
    "    match = re.search(r'_(\\d+)\\.txt$', filename)\n",
    "    return int(match.group(1)) if match else 0"
   ]
  },
  {
   "cell_type": "code",
   "execution_count": 5,
   "metadata": {},
   "outputs": [],
   "source": [
    "# input_folder_path = '../../data/output/streamV2_tweetnet_2023-06_splitted/'\n",
    "input_folder_path = '../../data/output/test_Folder/'\n",
    "files = [f for f in os.listdir(input_folder_path) if f.endswith('.csv')]\n",
    "sorted_files = sorted(files, key=extract_number)"
   ]
  },
  {
   "cell_type": "code",
   "execution_count": null,
   "metadata": {},
   "outputs": [],
   "source": [
    "start_from_file = 0\n",
    "for index, file_name in enumerate(sorted_files, start=0):  # start enumeration from 0 for human-readable file numbers\n",
    "        # Skip files before the 14th file\n",
    "        if index < start_from_file:\n",
    "            continue\n",
    "        \n",
    "        file_path = os.path.join(input_folder_path, file_name)\n",
    "        logging.info(f'Processing file: {file_name}')\n",
    "        df = pd.read_csv(file_path)\n",
    "        # Here the preprocessing of the data can be done"
   ]
  },
  {
   "cell_type": "code",
   "execution_count": 16,
   "metadata": {},
   "outputs": [
    {
     "data": {
      "text/plain": [
       "['İstanbul’da Kağıthae, Bağcılar ve Çekmeköy ilçelerinde hava saldırıları protesto edildi\\n\\nKağıthane’de 10 kişi gözaltına alındı\\n\\n https://t.co/CMKTSiNr7Q https://t.co/Nvd82D38Ga',\n",
       " '@meral_aksener Bizler diplomalarımızı ve kpss puanlarımızı aldık sıra sizde:\\n#Secime15BinZiraatMüh',\n",
       " \"Beyoğlu'nda akılalmaz soygun kamerada! Otomobile yol verip soyguna devam ettiler\",\n",
       " 'Beyaz Saray Ulusal Güvenlik Danışmanı Sözcüsü Kirby, Türkiye’nin güneyine yönelik meşru terör tehdidiyle karşı karşı kalmaya devam ettiğini ve kendini savunma hakkının olduğunu söyledi ancak ABD’nin sınır ötesi operasyonlar konusundaki endişesini yineledi\\n\\nhttps://t.co/uAlnJwt5tB',\n",
       " 'Sanat şehri Düzce, Devlet Tiyatroları Turne Sahnesi oluyor 🎭\\n\\nAnkara Devlet Tiyatromuzun, “Siyahlı Kadın Oyunu”nu, Sayın @OzgulOzkanYAVUZ Bakanımız ile birlikte izledik.\\n\\nHemşehrilerimizin ilgisi her oyunun kapalı gişe oynayacağını gösteriyor. 👏🏻 https://t.co/EkOZhtU7it',\n",
       " '@meral_aksener KAMUYA 15 BİN ZİRAAT MÜHENDİSİ ATAMASI ŞART, İVEDİLİKLE YERİNE GETİRİLMESİNİ TALEP EDİYORUZ. \\n#Secime15BinZiraatMüh 68',\n",
       " 'Genç kıza kabusu yaşatmışlardı! Şüpheliler yakalandı https://t.co/FoRrE2hqPq https://t.co/MSIbBZbMOs',\n",
       " 'İstanbul’da Kağıthae, Bağcılar ve Çekmeköy ilçelerinde hava saldırıları protesto edildi\\n\\nKağıthane’de 10 kişi gözaltına alındı\\n\\n https://t.co/CMKTSiNr7Q https://t.co/Nvd82D38Ga',\n",
       " '@meral_aksener Bizler diplomalarımızı ve kpss puanlarımızı aldık sıra sizde:\\n#Secime15BinZiraatMüh',\n",
       " \"Beyoğlu'nda akılalmaz soygun kamerada! Otomobile yol verip soyguna devam ettiler\",\n",
       " 'Beyaz Saray Ulusal Güvenlik Danışmanı Sözcüsü Kirby, Türkiye’nin güneyine yönelik meşru terör tehdidiyle karşı karşı kalmaya devam ettiğini ve kendini savunma hakkının olduğunu söyledi ancak ABD’nin sınır ötesi operasyonlar konusundaki endişesini yineledi\\n\\nhttps://t.co/uAlnJwt5tB',\n",
       " 'Sanat şehri Düzce, Devlet Tiyatroları Turne Sahnesi oluyor 🎭\\n\\nAnkara Devlet Tiyatromuzun, “Siyahlı Kadın Oyunu”nu, Sayın @OzgulOzkanYAVUZ Bakanımız ile birlikte izledik.\\n\\nHemşehrilerimizin ilgisi her oyunun kapalı gişe oynayacağını gösteriyor. 👏🏻 https://t.co/EkOZhtU7it',\n",
       " '@meral_aksener KAMUYA 15 BİN ZİRAAT MÜHENDİSİ ATAMASI ŞART, İVEDİLİKLE YERİNE GETİRİLMESİNİ TALEP EDİYORUZ. \\n#Secime15BinZiraatMüh 68',\n",
       " 'Genç kıza kabusu yaşatmışlardı! Şüpheliler yakalandı https://t.co/FoRrE2hqPq https://t.co/MSIbBZbMOs',\n",
       " '#KılıçdaroğluNeSöyledi: \"PİKTES öğretmenleri KPSS ile alınıyor ama hiçbirinin güvencesi yok. Hepsini kadroya alacağız.\" #PİKTES',\n",
       " \"@tele1comtr @zeynellule @alimahir #İyiPartiŞehit yakını olduğunu iddia eden bir kişi, İyi Parti'nin HDP ile yakın ilişki kurduğunu savundu, tepki gösterdi. İyi Parti Grup Başkanvekili #LütfüTürkkan da bu kişiye #Küfretti. ŞEHİTYAKINLARINA KÜFRÜ EDENLERİ SAVUNAN REZİL BASIN VE SİYASET 😠\\nhttps://t.co/jIqQIfgAfy\",\n",
       " '@belginuygur10 @nihat07125723 🕊️🗝️     SeçimÖncesi GenelAf   🕊️🗝️ 🕊️🕊️   SeçimÖncesi GenelAf  🕊️🕊️  Adil yargilanma hak ihlali % 77 🕊️\\nTck maddelerinin tümünü kapsiyor\\nAdli mahkum hak arıyor @RTErdogan @kilicdarogluk @dbdevletbahceli @meral_aksener https://t.co/vrum99J2wX',\n",
       " \"Abdullah Gürgün (@abdullahgurgun) yazdı:\\n\\n• Milas'ta görkemli Zeytin Hasat Şenliği: Nasırlı ellere selam\\n\\nhttps://t.co/DuMuQqhpvu\",\n",
       " 'İstanbul’da Kağıthae, Bağcılar ve Çekmeköy ilçelerinde hava saldırıları protesto edildi\\n\\nKağıthane’de 10 kişi gözaltına alındı\\n\\n https://t.co/CMKTSiNr7Q https://t.co/Nvd82D38Ga',\n",
       " '@meral_aksener Bizler diplomalarımızı ve kpss puanlarımızı aldık sıra sizde:\\n#Secime15BinZiraatMüh',\n",
       " \"Beyoğlu'nda akılalmaz soygun kamerada! Otomobile yol verip soyguna devam ettiler\",\n",
       " \"📌 Siyasi sahtekarlık yaptı\\n\\n📌 Başta iki devletli çözümü istedi\\n\\n📌 BM diplomatlarını ve büyükelçileri dinletti\\n\\nGüney Kıbrıs'ta Nikos Anastasiadis’in eski danışmanı, yazdığı kitapta Rum liderle ilgili çarpıcı iddialara yer verdi.\\n\\nhttps://t.co/fDS2PIB3XP https://t.co/614BdzVYQ1\",\n",
       " 'Polis Meslek Yüksek Okulu Kanunu görüşülüyor içinde polis yok, polisin derdini bilen yok, çözüm üreten yok. \\n\\nHamasete gelince en kahraman bizim polisimiz, icraata gelince polislik maaş mesleği değildir. https://t.co/RvgKP4roIG',\n",
       " '#KılıçdaroğluNeSöyledi: \"PİKTES öğretmenleri KPSS ile alınıyor ama hiçbirinin güvencesi yok. Hepsini kadroya alacağız.\" #PİKTES',\n",
       " \"@tele1comtr @zeynellule @alimahir #İyiPartiŞehit yakını olduğunu iddia eden bir kişi, İyi Parti'nin HDP ile yakın ilişki kurduğunu savundu, tepki gösterdi. İyi Parti Grup Başkanvekili #LütfüTürkkan da bu kişiye #Küfretti. ŞEHİTYAKINLARINA KÜFRÜ EDENLERİ SAVUNAN REZİL BASIN VE SİYASET 😠\\nhttps://t.co/jIqQIfgAfy\",\n",
       " '@belginuygur10 @nihat07125723 🕊️🗝️     SeçimÖncesi GenelAf   🕊️🗝️ 🕊️🕊️   SeçimÖncesi GenelAf  🕊️🕊️  Adil yargilanma hak ihlali % 77 🕊️\\nTck maddelerinin tümünü kapsiyor\\nAdli mahkum hak arıyor @RTErdogan @kilicdarogluk @dbdevletbahceli @meral_aksener https://t.co/vrum99J2wX',\n",
       " \"Abdullah Gürgün (@abdullahgurgun) yazdı:\\n\\n• Milas'ta görkemli Zeytin Hasat Şenliği: Nasırlı ellere selam\\n\\nhttps://t.co/DuMuQqhpvu\",\n",
       " 'Beyaz Saray Ulusal Güvenlik Danışmanı Sözcüsü Kirby, Türkiye’nin güneyine yönelik meşru terör tehdidiyle karşı karşı kalmaya devam ettiğini ve kendini savunma hakkının olduğunu söyledi ancak ABD’nin sınır ötesi operasyonlar konusundaki endişesini yineledi\\n\\nhttps://t.co/uAlnJwt5tB',\n",
       " 'Sanat şehri Düzce, Devlet Tiyatroları Turne Sahnesi oluyor 🎭\\n\\nAnkara Devlet Tiyatromuzun, “Siyahlı Kadın Oyunu”nu, Sayın @OzgulOzkanYAVUZ Bakanımız ile birlikte izledik.\\n\\nHemşehrilerimizin ilgisi her oyunun kapalı gişe oynayacağını gösteriyor. 👏🏻 https://t.co/EkOZhtU7it',\n",
       " '@meral_aksener KAMUYA 15 BİN ZİRAAT MÜHENDİSİ ATAMASI ŞART, İVEDİLİKLE YERİNE GETİRİLMESİNİ TALEP EDİYORUZ. \\n#Secime15BinZiraatMüh 68',\n",
       " 'Genç kıza kabusu yaşatmışlardı! Şüpheliler yakalandı https://t.co/FoRrE2hqPq https://t.co/MSIbBZbMOs',\n",
       " '#KılıçdaroğluNeSöyledi: \"PİKTES öğretmenleri KPSS ile alınıyor ama hiçbirinin güvencesi yok. Hepsini kadroya alacağız.\" #PİKTES',\n",
       " \"@tele1comtr @zeynellule @alimahir #İyiPartiŞehit yakını olduğunu iddia eden bir kişi, İyi Parti'nin HDP ile yakın ilişki kurduğunu savundu, tepki gösterdi. İyi Parti Grup Başkanvekili #LütfüTürkkan da bu kişiye #Küfretti. ŞEHİTYAKINLARINA KÜFRÜ EDENLERİ SAVUNAN REZİL BASIN VE SİYASET 😠\\nhttps://t.co/jIqQIfgAfy\",\n",
       " '@belginuygur10 @nihat07125723 🕊️🗝️     SeçimÖncesi GenelAf   🕊️🗝️ 🕊️🕊️   SeçimÖncesi GenelAf  🕊️🕊️  Adil yargilanma hak ihlali % 77 🕊️\\nTck maddelerinin tümünü kapsiyor\\nAdli mahkum hak arıyor @RTErdogan @kilicdarogluk @dbdevletbahceli @meral_aksener https://t.co/vrum99J2wX',\n",
       " \"Abdullah Gürgün (@abdullahgurgun) yazdı:\\n\\n• Milas'ta görkemli Zeytin Hasat Şenliği: Nasırlı ellere selam\\n\\nhttps://t.co/DuMuQqhpvu\",\n",
       " '@meral_aksener Biz Ziraat Mühendisleri olarak çiftçilerimizin yanında olmak ve tekrar çiftçinin toprağını ekip biçtiği bir Türkiye istiyoruz. Lütfen sesimiz olun. En az 15 bin Ziraat Mühendisi ataması istek değil, ihtiyaçtır. \\n#Secime15BinZiraatMüh\\n @RTErdogan  @VahitKirisci  @TCTarim 08',\n",
       " '@meral_aksener Doğanın gizli kahramanları olarak Ziraat Mühendisleri doğaya sahip çıkmaya ve üretmeye hazırdır.\\n#Secime15BinZiraatMüh 21',\n",
       " 'Sanat şehri Düzce, Devlet Tiyatroları Turne Sahnesi oluyor 🎭\\n\\nAnkara Devlet Tiyatromuzun, “Siyahlı Kadın Oyunu”nu, Sayın @OzgulOzkanYAVUZ Bakanımız ile birlikte izledik.\\n\\nHemşehrilerimizin ilgisi her oyunun kapalı gişe oynayacağını gösteriyor. 👏🏻 https://t.co/EkOZhtU7it',\n",
       " 'https://t.co/XWJQZJ8hcS',\n",
       " '@kilicdarogluk https://t.co/NDDop7lrPg',\n",
       " 'Ülkemizin ve milletimizin geleceği için sergilediğiniz takdire şayan fedakârlık için teşekkürler Yusufeli, teşekkürler Artvin… 🇹🇷 https://t.co/PmSOThHo5F',\n",
       " '@yirmidorttv Seçim öncesi Soros kesenin ağzını açmıştır tabi.\\nKaval’a olmayınca piyon mu yok sandınız?',\n",
       " '@kilicdarogluk 😂😂😂😂😂😂😂😂😂',\n",
       " '@meral_aksener 21 branşlı Ziraat Mühendisleri 15 Bin ATAMA bekliyor.\\xa042\\n#Secime15BinZiraatMüh',\n",
       " \"@karargah_haber Başkanım adamsın Chp'ye hayatımda oy vermedim vermeyi bile düşünmedim hiç aklımdan bile geçmedi.Ama söz veriyorum seni göreyim Cumhuriyet Halk Partisinin başında söz veriyorum oy vereceğim..\\n@tanjuozcanchp\",\n",
       " '@Yusuf__Tekin @RTErdogan MÜJDEMİZİ duymak istiyoruz bize söz verildi.\\n2022 kpss puanı ile ilave atama olacak denildi müjdemiz ne zaman?\\n@Yusuf__Tekin \\n@tcmeb \\n@_cevdetyilmaz \\n@kemalsamlioglu \\n@omurfatih \\n@aselimkoroglu \\n@RTErdogan \\n@yilmaznazif \\n#MebTakvim2022KpssyeMüsait https://t.co/TH2pDW3ix0',\n",
       " '@zorlu77 Tanju Özcan neden yalan söylesin?',\n",
       " '@herkesicinCHP İstifa...',\n",
       " 'IMF’siz IMF politikalarını yürürlüğe koyan , fakir halkı daha da fakirleştiren Saray rejimi şimdi Kıbrıs’ta Türk devletinin varlık hakkını yok eden Annan Planı sürecine geri mi dönüyor? KKTC Türk devletidir ve KKTC’yi ne Rum-Yunan işbirliğine ne AK Parti tavizciliğine…',\n",
       " \"@cerrah_pasalii @umitozdag Günlük kârlılık sinyallerimizle spot ve vadeli işlemlerde günlük alım satım işlemlerinde %100 - %1000'e varan getiri elde edebilirsiniz.\\n Telegram'daki ücretsiz kanalımıza katılmak için linke tıklayın https://t.co/XA2Z2KrYbD\",\n",
       " '@gazetesozcu 12. Defa seçime girdiniz ve hala ıslak imzalı tutanakları almayı beceremediniz. Bırakın bu işleri.',\n",
       " '@Yusuf__Tekin @RTErdogan 2022 kpss mağdur mağdur mağdur! Lütfen ek atamamızı verip bu mağduriyeti ortadan kaldırır mısınız?\\n#MebTakvim2022KpssyeMüsait',\n",
       " 'Çağrı mı masayı dağıtmak mı? \\n#AçıkveNet\\'te @kubrapc sordu; @ProfDrErsanSen yanıtladı: \"Burada artık AK Parti her şeyi seçim için yapıyor. Yani geçim için değil. Amacı İYİ Parti\\'yi tamamen muhalefet kanadından koparmaktır. Çünkü bu defa seçilme sorunu var.\" https://t.co/WynjrZ0vKz',\n",
       " 'Eyüpsultan Akşemsettin mahallesi birim ve öbek sorumlularımız ile birlikte 80 Günde Devr-i Alem diyerek komşularımızı ziyaret ettik. \\nHal ve hatırlarını sorduk. \\nHaller malum, hatır sonsuz, gelecek aydınlık:) #AzKaldı https://t.co/7HrUK3Mm18',\n",
       " '@meral_aksener KAMUYA 15 BİN ZİRAAT MÜHENDİSİ ATAMASI ŞART, İVEDİLİKLE YERİNE GETİRİLMESİNİ TALEP EDİYORUZ. \\n#Secime15BinZiraatMüh 67',\n",
       " '\"Kültür ve Sanat Şehri Düzce\" hedefimize adım adım yaklaşıyoruz. Bu amaca yönelik büyük bir adımı attık. \\n\\n“Devlet Tiyatroları Düzce Sahnesi”  hayalden gerçeğe dönüşüyor. Düzce tiyatroya ve sanatın her dalına ev sahipliği yapacak. https://t.co/XpoeX1QdNI',\n",
       " '@belginuygur10 @nihat07125723 Adalet herkes için Eşit olmalıdır Hayat o zaman yaşamaya değer olacaktır. SeçimÖncesi GenelAf https://t.co/AmfZj7f8VL',\n",
       " '@yilmaztunc ADALET⏩YERİNİ⏩ UZLAŞMA ⏩İLE BULSUN 🤝\\n1️⃣5️⃣8️⃣🔹1️⃣4️⃣2️⃣🔹2️⃣4️⃣5️⃣\\n\\nEN AĞIR CEZALAR BU MADDELERE \\nMAĞDURİYET KÜÇÜK CEZA BÜYÜK\\n\\n UZLAŞTIRMA KALİCİ ÇÖZÜM KAPSAMI BİZİDE İÇİNE ALİN🤲\\n🕊️\\nCANLARIMIZ İCERDE ÖLÜME TERKEDİLMESİN ❗🤲\\n🕊️\\n🕊️UZLAŞMAK İSTİYORUZ 🕊️\\nBİZE BU ŞANSI TANIYIN 🤲',\n",
       " '@vedatbilgn 3004 ÖN LİSANS SOSYAL GÜVENLİK MEZUNLARI OLARAK 2000 KADRO TALEP EDİYORUZ\\n #önlisanssosyalgüvenlik2binatama\\n@sgksosyalmedya @csgbakanligi @vedatbilgn  @RTErdogan @AvOzlemZengin @TCevheroglu @yvz_kurt\\n@erhnkrc16 @isyilmaz1971\\n@Ahmet_Erdem60 @evkaf\\n@msbagli.9',\n",
       " 'Cumhurbaşkanı Erdoğan, Yusufeli’nde yaşlı bir adamın doğal gaz talebi üzerine Enerji Bakanına talimat verdi:\\n\\n“En kısa zamanda halledeceksin. ‘Yolu uzak muzak’ yok. Dağları deleriz ve ulaşırız. Öyle mıy mıy yok tamam mı?”',\n",
       " 'AK PARTİ MECLİS ÜYESİ SİNAN BURHAN’IN MANSUR YAVAŞ’I HAŞAT ETTİĞİ TARTIŞMAYI KANAL D HABER YAPMIŞ…\\n\\nÇapsız Mansur\\n#YavasıTanırsanSevmezsin \\nMansur Yavaş\\n#mansuryavas\\n#MansurYavaş\\n#Ankara\\nMelih Gökçek\\n#ankara\\n@snnburhan https://t.co/JmZP0GCTgO',\n",
       " '@halktvcomtr Adam ya HAMBURGER yiyor ya da YALAN HAYAL VE EĞRETİ VİZYON açıklıyor. #KılıçdaroğluNeSöyledi ise yalan söyledi',\n",
       " '@meral_aksener #Secime15BinZiraatMüh 🌻🧑🏽\\u200d🌾🧑\\u200d🌾',\n",
       " '@meraldanis @glstnkocyigit @zuleyhagulum Pkklılar diğer Pkk sempatizanını ziyaret etmiş öylemi ? Hepiniz Amerikanın OYUNCAKLARISINIZ',\n",
       " '@meral_aksener Meral hanım lütfen ziraat mühendislerini unutmayın lütfen biz ziraat mühendislerini de yol haritanıza ekleyin yıllardır bekliyoruz Tarım ülkesinde mesleğimizi yapmak istiyoruz #Secime15BinZiraatMüh rwwtt',\n",
       " '@yilmaztunc 🔷Cezalarda adaletsizlik hat safhada!\\n🔶Verilen 30-40-50 yıl cezaların amacı ıslah etmekmi yoksa aileyi parçalamak ocakları söndürmekmi❓\\n🔷En yüksek cezalar\\nTCK👉🏽142🔶158🔶245 maddelerinin!\\n🔶Adaletin uzlaşma ile sağlanmasını bu maddelere iyileştirme yapılmasını istiyoruz 🤲',\n",
       " '#KılıçdaroğluNeSöyledi: \"PİKTES öğretmenleri KPSS ile alınıyor ama hiçbirinin güvencesi yok. Hepsini kadroya alacağız.\" #Piktes',\n",
       " '@meral_aksener Kamuya 15 BİN Ziraat Mühendisi istihdamı ile ürün kaybı minimum, verim maksimum. \\n#Secime15BinZiraatMüh 140',\n",
       " '@yenisafak Din iman ülke Laz lara peşkeş çekiliyor her alanda']"
      ]
     },
     "execution_count": 16,
     "metadata": {},
     "output_type": "execute_result"
    }
   ],
   "source": [
    "df = pd.read_csv(\"../../data/output/test_Folder/output_text1.csv\")\n",
    "df = df.dropna(subset=['tweet_id'])\n",
    "docs = df[\"text\"].tolist()\n",
    "docs = [doc for doc in docs if pd.notnull(doc) and doc != '']\n",
    "docs"
   ]
  },
  {
   "cell_type": "code",
   "execution_count": 11,
   "metadata": {},
   "outputs": [
    {
     "name": "stderr",
     "output_type": "stream",
     "text": [
      "2023-11-07 17:21:25,923 - sentence_transformers.SentenceTransformer - INFO - Load pretrained SentenceTransformer: sentence-transformers/paraphrase-multilingual-mpnet-base-v2\n",
      "2023-11-07 17:21:30,577 - sentence_transformers.SentenceTransformer - INFO - Use pytorch device: cuda\n",
      "Batches: 100%|██████████| 3/3 [00:00<00:00,  4.06it/s]\n"
     ]
    }
   ],
   "source": [
    "from sentence_transformers import SentenceTransformer\n",
    "\n",
    "# Create embeddings\n",
    "model = SentenceTransformer('sentence-transformers/paraphrase-multilingual-mpnet-base-v2')\n",
    "embeddings = model.encode(docs, show_progress_bar=True)"
   ]
  },
  {
   "cell_type": "code",
   "execution_count": 13,
   "metadata": {},
   "outputs": [],
   "source": [
    "import numpy as np\n",
    "with open('./model/embeddings.npy', 'wb') as f:\n",
    "    np.save(f, embeddings)"
   ]
  },
  {
   "cell_type": "code",
   "execution_count": null,
   "metadata": {},
   "outputs": [],
   "source": [
    "# embeddings = np.load('./model/embeddings.npy')"
   ]
  },
  {
   "cell_type": "code",
   "execution_count": 19,
   "metadata": {},
   "outputs": [
    {
     "name": "stderr",
     "output_type": "stream",
     "text": [
      "100%|██████████| 69/69 [00:00<00:00, 27027.17it/s]\n"
     ]
    },
    {
     "data": {
      "text/plain": [
       "244"
      ]
     },
     "execution_count": 19,
     "metadata": {},
     "output_type": "execute_result"
    }
   ],
   "source": [
    "import collections\n",
    "from tqdm import tqdm\n",
    "from sklearn.feature_extraction.text import CountVectorizer\n",
    "\n",
    "# Extract vocab to be used in BERTopic\n",
    "vocab = collections.Counter()\n",
    "tokenizer = CountVectorizer().build_tokenizer()\n",
    "for doc in tqdm(docs):\n",
    "  vocab.update(tokenizer(doc))\n",
    "vocab = [word for word, frequency in vocab.items() if frequency >= 2] #TODO: change frequency\n",
    "len(vocab) "
   ]
  },
  {
   "cell_type": "code",
   "execution_count": 21,
   "metadata": {},
   "outputs": [
    {
     "name": "stderr",
     "output_type": "stream",
     "text": [
      "[nltk_data] Downloading package stopwords to /home/esener/nltk_data...\n",
      "[nltk_data]   Package stopwords is already up-to-date!\n"
     ]
    },
    {
     "data": {
      "text/plain": [
       "['acaba',\n",
       " 'ama',\n",
       " 'aslında',\n",
       " 'az',\n",
       " 'bazı',\n",
       " 'belki',\n",
       " 'biri',\n",
       " 'birkaç',\n",
       " 'birşey',\n",
       " 'biz',\n",
       " 'bu',\n",
       " 'çok',\n",
       " 'çünkü',\n",
       " 'da',\n",
       " 'daha',\n",
       " 'de',\n",
       " 'defa',\n",
       " 'diye',\n",
       " 'eğer',\n",
       " 'en',\n",
       " 'gibi',\n",
       " 'hem',\n",
       " 'hep',\n",
       " 'hepsi',\n",
       " 'her',\n",
       " 'hiç',\n",
       " 'için',\n",
       " 'ile',\n",
       " 'ise',\n",
       " 'kez',\n",
       " 'ki',\n",
       " 'kim',\n",
       " 'mı',\n",
       " 'mu',\n",
       " 'mü',\n",
       " 'nasıl',\n",
       " 'ne',\n",
       " 'neden',\n",
       " 'nerde',\n",
       " 'nerede',\n",
       " 'nereye',\n",
       " 'niçin',\n",
       " 'niye',\n",
       " 'o',\n",
       " 'sanki',\n",
       " 'şey',\n",
       " 'siz',\n",
       " 'şu',\n",
       " 'tüm',\n",
       " 've',\n",
       " 'veya',\n",
       " 'ya',\n",
       " 'yani']"
      ]
     },
     "execution_count": 21,
     "metadata": {},
     "output_type": "execute_result"
    }
   ],
   "source": [
    "import nltk\n",
    "from nltk.corpus import stopwords\n",
    " \n",
    "nltk.download('stopwords')\n",
    "stopwords.words('turkish')"
   ]
  },
  {
   "cell_type": "code",
   "execution_count": 22,
   "metadata": {},
   "outputs": [
    {
     "ename": "ModuleNotFoundError",
     "evalue": "No module named 'cuml'",
     "output_type": "error",
     "traceback": [
      "\u001b[0;31m---------------------------------------------------------------------------\u001b[0m",
      "\u001b[0;31mModuleNotFoundError\u001b[0m                       Traceback (most recent call last)",
      "Cell \u001b[0;32mIn[22], line 1\u001b[0m\n\u001b[0;32m----> 1\u001b[0m \u001b[38;5;28;01mfrom\u001b[39;00m \u001b[38;5;21;01mcuml\u001b[39;00m\u001b[38;5;21;01m.\u001b[39;00m\u001b[38;5;21;01mmanifold\u001b[39;00m \u001b[38;5;28;01mimport\u001b[39;00m UMAP\n\u001b[1;32m      2\u001b[0m \u001b[38;5;28;01mfrom\u001b[39;00m \u001b[38;5;21;01mcuml\u001b[39;00m\u001b[38;5;21;01m.\u001b[39;00m\u001b[38;5;21;01mcluster\u001b[39;00m \u001b[38;5;28;01mimport\u001b[39;00m HDBSCAN\n\u001b[1;32m      3\u001b[0m \u001b[38;5;28;01mfrom\u001b[39;00m \u001b[38;5;21;01mbertopic\u001b[39;00m \u001b[38;5;28;01mimport\u001b[39;00m BERTopic\n",
      "\u001b[0;31mModuleNotFoundError\u001b[0m: No module named 'cuml'"
     ]
    }
   ],
   "source": [
    "from cuml.manifold import UMAP\n",
    "from cuml.cluster import HDBSCAN\n",
    "from bertopic import BERTopic\n",
    "\n",
    "# Prepare sub-models\n",
    "embedding_model = SentenceTransformer('paraphrase-multilingual-mpnet-base-v2')\n",
    "umap_model = UMAP(n_components=5, n_neighbors=50, random_state=42, metric=\"cosine\", verbose=True)\n",
    "hdbscan_model = HDBSCAN(min_samples=20, gen_min_span_tree=True, prediction_data=False, min_cluster_size=20, verbose=True)\n",
    "vectorizer_model = CountVectorizer(vocabulary=vocab, stop_words=stopwords.words('turkish'))\n",
    "\n",
    "# Fit BERTopic without actually performing any clustering\n",
    "topic_model= BERTopic(\n",
    "        embedding_model=embedding_model,\n",
    "        umap_model=umap_model,\n",
    "        hdbscan_model=hdbscan_model,\n",
    "        vectorizer_model=vectorizer_model,\n",
    "        verbose=True\n",
    ").fit(docs, embeddings=embeddings)"
   ]
  }
 ],
 "metadata": {
  "kernelspec": {
   "display_name": "thesis",
   "language": "python",
   "name": "python3"
  },
  "language_info": {
   "codemirror_mode": {
    "name": "ipython",
    "version": 3
   },
   "file_extension": ".py",
   "mimetype": "text/x-python",
   "name": "python",
   "nbconvert_exporter": "python",
   "pygments_lexer": "ipython3",
   "version": "3.8.18"
  }
 },
 "nbformat": 4,
 "nbformat_minor": 2
}
